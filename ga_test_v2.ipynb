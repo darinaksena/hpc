{
  "nbformat": 4,
  "nbformat_minor": 0,
  "metadata": {
    "colab": {
      "name": "ga_test_v2.ipynb",
      "provenance": [],
      "authorship_tag": "ABX9TyNPVVkpkW4V1AErsehwmGw1",
      "include_colab_link": true
    },
    "kernelspec": {
      "name": "python3",
      "display_name": "Python 3"
    },
    "accelerator": "GPU"
  },
  "cells": [
    {
      "cell_type": "markdown",
      "metadata": {
        "id": "view-in-github",
        "colab_type": "text"
      },
      "source": [
        "<a href=\"https://colab.research.google.com/github/darinaksena/hpc/blob/main/ga_test_v2.ipynb\" target=\"_parent\"><img src=\"https://colab.research.google.com/assets/colab-badge.svg\" alt=\"Open In Colab\"/></a>"
      ]
    },
    {
      "cell_type": "code",
      "metadata": {
        "id": "sTR_Eof3E8uX"
      },
      "source": [
        "import math\n",
        "import matplotlib.pyplot as plt\n",
        "from numba import cuda\n",
        "from numba.cuda.random import create_xoroshiro128p_states, xoroshiro128p_uniform_float32\n",
        "import numba\n",
        "import copy\n",
        "import numpy as np\n",
        "import time\n",
        "\n",
        "\n",
        "solution = np.array([3, 2.5, 1, 4.5, 0.5]) \n",
        "\n",
        "deg_p = 5\n",
        "\n",
        "count = 1000\n",
        "population_size = (count, deg_p) \n",
        "# new_population = np.zeros(population_size)\n",
        "\n",
        "generations_count = 5000\n",
        "parents_count = 50\n",
        "\n",
        "X = np.linspace(0,np.pi, 20)"
      ],
      "execution_count": 1,
      "outputs": []
    },
    {
      "cell_type": "code",
      "metadata": {
        "id": "jOFgOHpfE9th"
      },
      "source": [
        "def fitness(individuals, points):\n",
        "    fitness = []\n",
        "    poly2 = np.poly1d(solution)\n",
        "    for individual in individuals:\n",
        "      s = 0.\n",
        "      poly = np.poly1d(individual)\n",
        "      s += np.linalg.norm(individual-solution)\n",
        "      # for point in points:\n",
        "        # s = np.power(poly(point) - poly2(point),2)\n",
        "      fitness.append(s)\n",
        "    return fitness\n",
        "\n",
        "def selection(individuals, fit, num_parents):\n",
        "    parents = np.empty((num_parents, individuals.shape[1]))\n",
        "    for parent_num in range(num_parents):\n",
        "        i = np.argmin(fit)\n",
        "        parents[parent_num, :] = individuals[i, :]\n",
        "        fit[i] = np.inf\n",
        "    return parents\n",
        "\n",
        "def crossover(parents):\n",
        "    individuals = np.empty(population_size)\n",
        "    individuals[:parents.shape[0], :] = parents\n",
        "    crosspoint = int(np.random.choice(population_size[1],1))\n",
        "\n",
        "    for k in range(parents.shape[0], population_size[0], 2):\n",
        "        p1 = np.random.choice(parents.shape[0], 1)\n",
        "        p2 = np.random.choice(parents.shape[0], 1)\n",
        "        individuals[k, :crosspoint] = parents[p1, :crosspoint]\n",
        "        individuals[k, crosspoint:] = parents[p2, crosspoint:]\n",
        "\n",
        "        individuals[k+1, :crosspoint] = parents[p2, :crosspoint]\n",
        "        individuals[k+1, crosspoint:] = parents[p1, crosspoint:]\n",
        "    return individuals\n",
        "\n",
        "def mutation(individuals): \n",
        "  # first individual is usually left without changes to keep \n",
        "  # the best individual mutNumber = random between second_individual_start_bit and ←- \n",
        "  mutNumber = np.random.randint( 1, individuals.shape[0] )# usually from 1% to 2% of bits in individuals\n",
        "  mutIdx =  np.random.randint( 1, individuals.shape[1] ,mutNumber)\n",
        "  for i in mutIdx:# times { \n",
        "    number_of_bit_to_mutate = np.random.randint(0,individuals.shape[1]) \n",
        "    individuals[i,number_of_bit_to_mutate] = np.random.uniform(-1.0, 1.0, 1)\n",
        "  return individuals"
      ],
      "execution_count": 2,
      "outputs": []
    },
    {
      "cell_type": "code",
      "metadata": {
        "id": "7lrBCrE7GObD"
      },
      "source": [
        "individuals = np.zeros(population_size)\n",
        "for generation in range(generations_count):\n",
        "    fitness_array = fitness(individuals, X)\n",
        "    # print(fitness)\n",
        "    parents = selection(individuals, fitness_array, parents_count)\n",
        "    \n",
        "    individuals = crossover(parents)\n",
        "    \n",
        "    individuals = mutation(individuals) "
      ],
      "execution_count": null,
      "outputs": []
    },
    {
      "cell_type": "code",
      "metadata": {
        "colab": {
          "base_uri": "https://localhost:8080/"
        },
        "id": "oxNhGwgEGQ_G",
        "outputId": "b200ada8-8dee-4612-e7b5-eacc5cf42485"
      },
      "source": [
        "fit = fitness(individuals, X)\n",
        "print('Fitness:', np.round(np.min(fit),2))\n",
        "idx = np.argmin(fit)\n",
        "best_individuals = individuals[idx]\n",
        "\n",
        "print(\"Best individuals:\\t\", np.round(best_individuals,1))\n",
        "print(\"Solution:\\t\\t\", solution)"
      ],
      "execution_count": 4,
      "outputs": [
        {
          "output_type": "stream",
          "text": [
            "Fitness: 4.31\n",
            "Best individuals:\t [1.  1.  1.  1.  0.4]\n",
            "Solution:\t\t [3.  2.5 1.  4.5 0.5]\n"
          ],
          "name": "stdout"
        }
      ]
    },
    {
      "cell_type": "code",
      "metadata": {
        "id": "-s57yPNV1sNf"
      },
      "source": [
        "@cuda.jit\n",
        "def fitness_gpu(true_weights, individuals, fitness_array, points):\n",
        "    tx = cuda.threadIdx.x\n",
        "    bx = cuda.blockIdx.x\n",
        "    bw = cuda.blockDim.x\n",
        "    i = tx + bx * bw\n",
        "\n",
        "    # poly2 = np.poly1d(true_weights)\n",
        "    for i in range(len(individuals)):\n",
        "      s = 0.\n",
        "      # poly = np.poly1d(individual)\n",
        "      for j in range (len(true_weights)):\n",
        "        # s += cuda.linalg.norm(individuals[i,j]-true_weights[j])\n",
        "        s += (individuals[i,j]-true_weights[j]) ** 2\n",
        "      # for point in points:\n",
        "        # s = np.power(poly(point) - poly2(point),2)\n",
        "        numba.cuda.syncthreads()\n",
        "      fitness_array[i] = s\n",
        "      numba.cuda.syncthreads()\n",
        "      # fitness_array.append(s)"
      ],
      "execution_count": 5,
      "outputs": []
    },
    {
      "cell_type": "code",
      "metadata": {
        "id": "BYH7xSbm1xHM"
      },
      "source": [
        "@numba.njit(parallel=True, fastmath=True)\n",
        "def selection_gpu(pop, fitness, parents_count):\n",
        "    parents = np.empty((parents_count, pop.shape[1]))\n",
        "    for parent_num in numba.prange(parents_count):\n",
        "        max_fitness_idx = np.argmin(fitness)\n",
        "        parents[parent_num, :] = pop[max_fitness_idx, :]\n",
        "        fitness[max_fitness_idx] = np.inf\n",
        "    return parents"
      ],
      "execution_count": 10,
      "outputs": []
    },
    {
      "cell_type": "code",
      "metadata": {
        "id": "MjCxWPNW1yEN"
      },
      "source": [
        "@cuda.jit\n",
        "def crossover_gpu(parents, offspring):\n",
        "    \n",
        "    tx = cuda.threadIdx.x\n",
        "    bx = cuda.blockIdx.x\n",
        "    bw = cuda.blockDim.x\n",
        "    i = tx + bx * bw\n",
        "\n",
        "    crossover_point = np.uint8(offspring.shape[1]/2)\n",
        "    inverse_point = np.uint8(offspring.shape[1] - crossover_point)\n",
        "\n",
        "    if i < offspring.shape[0]:\n",
        "        parent1_idx = i % parents.shape[0]\n",
        "        parent2_idx = (i + 1) % parents.shape[0]\n",
        "\n",
        "        for point in range(crossover_point):\n",
        "            offspring[i, point] = parents[parent1_idx, point]\n",
        "            offspring[i, -point] = parents[parent2_idx, -point]\n",
        "            numba.cuda.syncthreads()\n",
        "            \n",
        "        for point in range(inverse_point):\n",
        "            offspring[i, offspring.shape[1]-point-1] = parents[parent1_idx, offspring.shape[1]-point-1]\n",
        "            numba.cuda.syncthreads()\n",
        "\n",
        "    # for i in range(parents.shape[0]):\n",
        "    #   for j in range(parents.shape[1]):\n",
        "    #     offspring[i,j] = parents[i,j]\n",
        "    #     numba.cuda.syncthreads()\n",
        "    # # crossover_point = np.random.randint()#(0,population_size[1])\n",
        "    # crossover_point = population_size[0]/2\n",
        "\n",
        "    # for k in range(parents.shape[0], population_size[0], 2):\n",
        "    #     # parent1_idx = np.random.randint(0,parents.shape[0])\n",
        "    #     # parent2_idx = np.random.randint(0,parents.shape[0])\n",
        "    #     for j in range(crossover_point):\n",
        "    #       offspring[k, j] = parents[k, j]\n",
        "    #       offspring[k+1, j] = parents[k+1, j]\n",
        "    #       offspring[k, -j] = parents[k+1, -j]\n",
        "    #       offspring[k+1, -j] = parents[k, -j]\n",
        "    #       numba.cuda.syncthreads()\n",
        "    #     numba.cuda.syncthreads()"
      ],
      "execution_count": 7,
      "outputs": []
    },
    {
      "cell_type": "code",
      "metadata": {
        "id": "d7KMBLOc10_I"
      },
      "source": [
        "def mutation(individuals): \n",
        "  # first individual is usually left without changes to keep \n",
        "  # the best individual mutNumber = random between second_individual_start_bit and ←- \n",
        "  mutNumber = np.random.randint( 1, individuals.shape[0] )# usually from 1% to 2% of bits in individuals\n",
        "  mutIdx =  np.random.randint( 1, individuals.shape[1] ,mutNumber)\n",
        "  for i in mutIdx:# times { \n",
        "    number_of_bit_to_mutate = np.random.randint(0,individuals.shape[1]) \n",
        "    individuals[i,number_of_bit_to_mutate] = np.random.uniform(-1.0, 1.0, 1)\n",
        "  return individuals"
      ],
      "execution_count": 8,
      "outputs": []
    },
    {
      "cell_type": "code",
      "metadata": {
        "id": "trxzJNKG13Xu"
      },
      "source": [
        "individuals = np.zeros(population_size)\n",
        "threads_per_block = 256\n",
        "blocks_per_grid = (count * deg_p + (threads_per_block - 1))\n",
        "\n",
        "fit = np.zeros((count, ))\n",
        "new_individuals = np.zeros(population_size).astype(np.float32)\n",
        "rng_states = create_xoroshiro128p_states(threads_per_block * blocks_per_grid, seed=1)\n",
        "\n",
        "for generation in range(generations_count):\n",
        "    fitness_gpu[blocks_per_grid, threads_per_block](solution, individuals, fit, X)\n",
        "\n",
        "    parents = selection_gpu(individuals, fit, \n",
        "                                      parents_count).astype(np.float32)\n",
        "    \n",
        "    crossover_gpu[blocks_per_grid, threads_per_block](parents,\n",
        "                                       new_individuals)\n",
        "  \n",
        "    individuals = mutation(new_individuals)"
      ],
      "execution_count": null,
      "outputs": []
    },
    {
      "cell_type": "code",
      "metadata": {
        "colab": {
          "base_uri": "https://localhost:8080/"
        },
        "id": "IKaJXH5s1-4E",
        "outputId": "de416501-e417-4273-c436-2c979356410b"
      },
      "source": [
        "fit = fitness(individuals,X)\n",
        "print('Fitness:', np.round(np.min(fit),2))\n",
        "idx = np.argmin(fit)\n",
        "best_individuals = individuals[idx]\n",
        "\n",
        "print(\"Best individuals:\\t\", np.round(best_individuals,1))\n",
        "print(\"Solution:\\t\\t\", solution)\n"
      ],
      "execution_count": 13,
      "outputs": [
        {
          "output_type": "stream",
          "text": [
            "Fitness: 4.57\n",
            "Best individuals:\t [1.  0.8 0.2 0.9 0.7]\n",
            "Solution:\t\t [3.  2.5 1.  4.5 0.5]\n"
          ],
          "name": "stdout"
        }
      ]
    }
  ]
}