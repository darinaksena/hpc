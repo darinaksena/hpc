{
  "nbformat": 4,
  "nbformat_minor": 0,
  "metadata": {
    "colab": {
      "name": "cuda_0_aksenova_d_33.ipynb",
      "provenance": [],
      "collapsed_sections": [],
      "authorship_tag": "ABX9TyMKtbgd2h4ikwg4kua7G5Xm",
      "include_colab_link": true
    },
    "kernelspec": {
      "name": "python3",
      "display_name": "Python 3"
    },
    "accelerator": "GPU"
  },
  "cells": [
    {
      "cell_type": "markdown",
      "metadata": {
        "id": "view-in-github",
        "colab_type": "text"
      },
      "source": [
        "<a href=\"https://colab.research.google.com/github/darinaksena/hpc/blob/main/cuda_0_aksenova_d_33.ipynb\" target=\"_parent\"><img src=\"https://colab.research.google.com/assets/colab-badge.svg\" alt=\"Open In Colab\"/></a>"
      ]
    },
    {
      "cell_type": "markdown",
      "metadata": {
        "id": "9l_dHAfZQ4hx"
      },
      "source": [
        "**Задача:** реализовать алгоритм перемножения матриц\n",
        "\n",
        "**Язык:** C++ или Python\n",
        "\n",
        "**Входные данные:** 2 матрицы размером от 100х100 до 2000х2000.\n",
        "\n",
        "**Выходные данные:** проверка корректности перемножения + время вычисления\n",
        "\n",
        "Реализация должна содержать 2 функции перемножения матриц: на CPU и на GPU с применением CUDA.\n",
        "\n",
        "Отчет о проделанной лабораторной работе - это git-репозиторий с исходным кодом реализации + описание проделанной работы там же в readme.\n",
        "Необходимо описать реализацию, объяснив, что конкретно было распараллелено и почему. \n",
        "Провести эксперименты: перемножить матрицы разных размеров, посчитать ускорение. Результаты привести в виде таблицы."
      ]
    },
    {
      "cell_type": "code",
      "metadata": {
        "id": "5YT_dneoQ10V",
        "outputId": "9a70265c-b6ce-4fc8-8eba-123598ed5481",
        "colab": {
          "base_uri": "https://localhost:8080/",
          "height": 364
        }
      },
      "source": [
        "!nvidia-smi"
      ],
      "execution_count": 2,
      "outputs": [
        {
          "output_type": "stream",
          "text": [
            "Wed Oct 21 09:06:16 2020       \n",
            "+-----------------------------------------------------------------------------+\n",
            "| NVIDIA-SMI 455.23.05    Driver Version: 418.67       CUDA Version: 10.1     |\n",
            "|-------------------------------+----------------------+----------------------+\n",
            "| GPU  Name        Persistence-M| Bus-Id        Disp.A | Volatile Uncorr. ECC |\n",
            "| Fan  Temp  Perf  Pwr:Usage/Cap|         Memory-Usage | GPU-Util  Compute M. |\n",
            "|                               |                      |               MIG M. |\n",
            "|===============================+======================+======================|\n",
            "|   0  Tesla K80           Off  | 00000000:00:04.0 Off |                    0 |\n",
            "| N/A   54C    P8    28W / 149W |      0MiB / 11441MiB |      0%      Default |\n",
            "|                               |                      |                 ERR! |\n",
            "+-------------------------------+----------------------+----------------------+\n",
            "                                                                               \n",
            "+-----------------------------------------------------------------------------+\n",
            "| Processes:                                                                  |\n",
            "|  GPU   GI   CI        PID   Type   Process name                  GPU Memory |\n",
            "|        ID   ID                                                   Usage      |\n",
            "|=============================================================================|\n",
            "|  No running processes found                                                 |\n",
            "+-----------------------------------------------------------------------------+\n"
          ],
          "name": "stdout"
        }
      ]
    },
    {
      "cell_type": "code",
      "metadata": {
        "id": "biiNnHrF4DvP"
      },
      "source": [
        "from __future__ import division\n",
        "from numba import cuda, float32\n",
        "import time\n",
        "import numpy as np\n",
        "import math\n",
        "\n",
        "#threads per block\n",
        "TPB = 32\n",
        "size = 100\n",
        "\n",
        "\n",
        "\n",
        "@cuda.jit\n",
        "def mult_gpu_shared(A, B, C):\n",
        "    sA = cuda.shared.array(shape=(TPB, TPB), dtype=float32)\n",
        "    sB = cuda.shared.array(shape=(TPB, TPB), dtype=float32)\n",
        "\n",
        "    x, y = cuda.grid(2)\n",
        "    \n",
        "    tx = cuda.threadIdx.x\n",
        "    ty = cuda.threadIdx.y\n",
        "    \n",
        "    if x >= C.shape[0] and y >= C.shape[1]:\n",
        "        return\n",
        "\n",
        "    tmp = 0.\n",
        "    for i in range(int(A.shape[1] / TPB)):\n",
        "        sA[tx, ty] = A[x, ty + i * TPB]\n",
        "        sB[tx, ty] = B[tx + i * TPB, y]\n",
        "\n",
        "        cuda.syncthreads()\n",
        "\n",
        "        for j in range(TPB):\n",
        "            tmp += sA[tx, j] * sB[j, ty]\n",
        "\n",
        "        cuda.syncthreads()\n",
        "\n",
        "    C[x, y] = tmp\n",
        "\n",
        "def mult_cpu_np(A,B):\n",
        "  return np.dot(A,B)\n",
        "\n",
        "def mult_cpu(A, B, size):\n",
        "    C = np.zeros((size,size))\n",
        "    for i in range(size):\n",
        "        for j in range(size):\n",
        "            for k in range(size):\n",
        "                C[i, j] += A[i, k] * B[k, j]\n",
        "    return C\n",
        "  \n",
        "# A = np.full((size, size), 3, np.float)\n",
        "# B = np.full((size, size), 4, np.float)\n",
        "# A =np.array([[1.,2],\n",
        "#              [2,1]])\n",
        "# B = A\n",
        "def experiment_shared(n, size):\n",
        "  g_time = 0.\n",
        "  c_time = 0.\n",
        "  # n = 3\n",
        "\n",
        "  for _ in range(n):\n",
        "    A = np.random.randint(5, size=(size, size))\n",
        "    A = A.astype(np.float64)\n",
        "    B = np.random.randint(10, size=(size, size))\n",
        "    B = B.astype(np.float64)\n",
        "\n",
        "    # start = time.time()\n",
        "\n",
        "    A_global_mem = cuda.to_device(A)\n",
        "    B_global_mem = cuda.to_device(B)\n",
        "    C_global_mem = cuda.device_array((size, size))\n",
        "\n",
        "    threadsperblock = (TPB, TPB)\n",
        "    blockspergrid_x = int(math.ceil(A.shape[0] / threadsperblock[1]))\n",
        "    blockspergrid_y = int(math.ceil(B.shape[1] / threadsperblock[0]))\n",
        "    blockspergrid = (blockspergrid_x, blockspergrid_y)\n",
        "\n",
        "    start = time.time()\n",
        "\n",
        "    mult_gpu_shared[blockspergrid, threadsperblock](A_global_mem, B_global_mem, C_global_mem)\n",
        "\n",
        "    g_time += time.time() - start\n",
        "\n",
        "    C_g = C_global_mem.copy_to_host()\n",
        "\n",
        "    # g_time += time.time() - start\n",
        "\n",
        "    start = time.time()\n",
        "    C_c = mult_cpu_np(A,B)\n",
        "    c_time += time.time() - start\n",
        "\n",
        "  print('size', size)\n",
        "  print('CPU:',c_time/n)\n",
        "  print('GPU:',g_time/n)\n",
        "  print('speedup',c_time/g_time )\n",
        "  return c_time/g_time"
      ],
      "execution_count": 2,
      "outputs": []
    },
    {
      "cell_type": "code",
      "metadata": {
        "id": "3nSJBJbwhHPF"
      },
      "source": [
        "from numba import cuda, float32\n",
        "import time\n",
        "import numpy as np\n",
        "import math\n",
        "\n",
        "@cuda.jit\n",
        "def mult_gpu_device(A, B, C):\n",
        "    row, col = cuda.grid(2)\n",
        "    if row < C.shape[0] and col < C.shape[1]:\n",
        "        tmp = 0.\n",
        "        for k in range(A.shape[1]):\n",
        "            tmp += A[row, k] * B[k, col]\n",
        "        C[row, col] = tmp\n",
        "\n",
        "\n",
        "def experiment_device(n, size):\n",
        "  g_time = 0.\n",
        "  c_time = 0.\n",
        "  # n = 3\n",
        "\n",
        "  for _ in range(n):\n",
        "    A = np.random.randint(5, size=(size, size))\n",
        "    A = A.astype(np.float64)\n",
        "    B = np.random.randint(10, size=(size, size))\n",
        "    B = B.astype(np.float64)\n",
        "    C = np.zeros((size, size))\n",
        "\n",
        "    # start = time.time()\n",
        "\n",
        "    A_global_mem = cuda.to_device(A)\n",
        "    B_global_mem = cuda.to_device(B)\n",
        "    C_global_mem = cuda.device_array((size, size))\n",
        "    \n",
        "    \n",
        "    threadsperblock = (TPB, TPB)\n",
        "    blockspergrid_x = int(math.ceil(A.shape[0] / threadsperblock[1]))\n",
        "    blockspergrid_y = int(math.ceil(B.shape[1] / threadsperblock[0]))\n",
        "    blockspergrid = (blockspergrid_x, blockspergrid_y)\n",
        "\n",
        "    start = time.time()\n",
        "\n",
        "    mult_gpu_device[blockspergrid, threadsperblock](A_global_mem, B_global_mem, C_global_mem)\n",
        "\n",
        "    g_time += time.time() - start\n",
        "\n",
        "    C_g = C_global_mem.copy_to_host()\n",
        "\n",
        "    \n",
        "\n",
        "    start = time.time()\n",
        "    # C_c = multiplicationCPU(A,B,size)\n",
        "    C_c = mult_cpu_np(A,B)\n",
        "\n",
        "    c_time += time.time() - start\n",
        "\n",
        "  print('size', size)\n",
        "  print('CPU:',c_time/n)\n",
        "  print('GPU:',g_time/n)\n",
        "  print('speedup',c_time/g_time )\n",
        "  return c_time/g_time"
      ],
      "execution_count": 3,
      "outputs": []
    },
    {
      "cell_type": "code",
      "metadata": {
        "id": "SfUxgTpOiMpQ",
        "outputId": "0e7bf415-2a6c-4ce1-b031-fd90d2c51a97",
        "colab": {
          "base_uri": "https://localhost:8080/",
          "height": 364
        }
      },
      "source": [
        "res = np.zeros((5,2), dtype = np.float64)\n",
        "\n",
        "res[0][0], res[0][1] = 128, experiment_device(5,128)\n",
        "res[1][0], res[1][1] = 256, experiment_device(5,256)\n",
        "res[2][0], res[2][1] = 512, experiment_device(5,512)\n",
        "res[3][0], res[3][1] = 1024, experiment_device(5,1024)\n",
        "res[4][0], res[4][1] = 2048, experiment_device(5,2048)"
      ],
      "execution_count": 4,
      "outputs": [
        {
          "output_type": "stream",
          "text": [
            "size 128\n",
            "CPU: 0.0011011600494384766\n",
            "GPU: 0.10027532577514649\n",
            "speedup 0.010981365963424295\n",
            "size 256\n",
            "CPU: 0.0011209964752197266\n",
            "GPU: 0.0004054069519042969\n",
            "speedup 2.765114090802164\n",
            "size 512\n",
            "CPU: 0.007796430587768554\n",
            "GPU: 0.0005513191223144531\n",
            "speedup 14.141411520498183\n",
            "size 1024\n",
            "CPU: 0.05426249504089355\n",
            "GPU: 0.0005418777465820313\n",
            "speedup 100.1378915874692\n",
            "size 2048\n",
            "CPU: 0.4198801517486572\n",
            "GPU: 0.0004189014434814453\n",
            "speedup 1002.3363688104724\n"
          ],
          "name": "stdout"
        }
      ]
    },
    {
      "cell_type": "code",
      "metadata": {
        "id": "gRnOXEwtiWhe",
        "outputId": "9d77f752-5b67-411b-fe71-68f9b0f29e72",
        "colab": {
          "base_uri": "https://localhost:8080/",
          "height": 295
        }
      },
      "source": [
        "import matplotlib.pyplot as plt\n",
        "%matplotlib inline\n",
        "# print(res)\n",
        "plt.plot(res[:,0], res[:,1]) \n",
        "plt.xlabel('Matrix size')\n",
        "plt.ylabel('Speedup')\n",
        "plt.title('Device memory')\n",
        "plt.show()"
      ],
      "execution_count": 5,
      "outputs": [
        {
          "output_type": "display_data",
          "data": {
            "image/png": "[encoded data removed]",
            "text/plain": [
              "<Figure size 432x288 with 1 Axes>"
            ]
          },
          "metadata": {
            "tags": [],
            "needs_background": "light"
          }
        }
      ]
    },
    {
      "cell_type": "code",
      "metadata": {
        "id": "jEKNr15rSjjv",
        "outputId": "8f7d00f7-5128-48f1-d182-36c83d7738b1",
        "colab": {
          "base_uri": "https://localhost:8080/",
          "height": 364
        }
      },
      "source": [
        "res = np.zeros((5,2), dtype = np.float64)\n",
        "\n",
        "res[0][0], res[0][1] = 128, experiment_shared(5,128)\n",
        "res[1][0], res[1][1] = 256, experiment_shared(5,256)\n",
        "res[2][0], res[2][1] = 512, experiment_shared(5,512)\n",
        "res[3][0], res[3][1] = 1024, experiment_shared(5,1024)\n",
        "res[4][0], res[4][1] = 2048, experiment_shared(5,2048)"
      ],
      "execution_count": 6,
      "outputs": [
        {
          "output_type": "stream",
          "text": [
            "size 128\n",
            "CPU: 0.00021138191223144532\n",
            "GPU: 0.049320316314697264\n",
            "speedup 0.004285899362094203\n",
            "size 256\n",
            "CPU: 0.001058483123779297\n",
            "GPU: 0.00041513442993164064\n",
            "speedup 2.549735814380887\n",
            "size 512\n",
            "CPU: 0.007463932037353516\n",
            "GPU: 0.0005510330200195312\n",
            "speedup 13.545344409830392\n",
            "size 1024\n",
            "CPU: 0.05610599517822266\n",
            "GPU: 0.000550222396850586\n",
            "speedup 101.96966808215616\n",
            "size 2048\n",
            "CPU: 0.4105886459350586\n",
            "GPU: 0.0004082202911376953\n",
            "speedup 1005.8016586847331\n"
          ],
          "name": "stdout"
        }
      ]
    },
    {
      "cell_type": "code",
      "metadata": {
        "id": "uAjcvTh0USiC",
        "outputId": "b029a67c-cd57-476b-ab07-7b0d19845542",
        "colab": {
          "base_uri": "https://localhost:8080/",
          "height": 295
        }
      },
      "source": [
        "import matplotlib.pyplot as plt\n",
        "%matplotlib inline\n",
        "# print(res)\n",
        "plt.plot(res[:,0], res[:,1]) \n",
        "plt.xlabel('Matrix size')\n",
        "plt.ylabel('Speedup')\n",
        "plt.title('Shared memory')\n",
        "plt.show()"
      ],
      "execution_count": 9,
      "outputs": [
        {
          "output_type": "display_data",
          "data": {
            "image/png": "[encoded data removed]",
            "text/plain": [
              "<Figure size 432x288 with 1 Axes>"
            ]
          },
          "metadata": {
            "tags": [],
            "needs_background": "light"
          }
        }
      ]
    },
    {
      "cell_type": "code",
      "metadata": {
        "id": "2iodT4bgSMCz",
        "outputId": "edcf3fee-d1b0-4399-f071-87a597f1d13d",
        "colab": {
          "base_uri": "https://localhost:8080/",
          "height": 69
        }
      },
      "source": [
        "g_time = 0.\n",
        "c_time = 0.\n",
        "n = 3\n",
        "\n",
        "for _ in range(n):\n",
        "  A = np.random.randint(5, size=(size, size))\n",
        "  A = A.astype(np.float64)\n",
        "  B = np.random.randint(10, size=(size, size))\n",
        "  B = B.astype(np.float64)\n",
        "\n",
        "  start = time.time()\n",
        "\n",
        "  A_global_mem = cuda.to_device(A)\n",
        "  B_global_mem = cuda.to_device(B)\n",
        "  C_global_mem = cuda.device_array((size, size))\n",
        "\n",
        "  threadsperblock = (TPB, TPB)\n",
        "  blockspergrid_x = int(math.ceil(A.shape[0] / threadsperblock[1]))\n",
        "  blockspergrid_y = int(math.ceil(B.shape[1] / threadsperblock[0]))\n",
        "  blockspergrid = (blockspergrid_x, blockspergrid_y)\n",
        "\n",
        "  mult_gpu_global[blockspergrid, threadsperblock](A_global_mem, B_global_mem, C_global_mem)\n",
        "  C_g = C_global_mem.copy_to_host()\n",
        "\n",
        "  g_time += time.time() - start\n",
        "\n",
        "  start = time.time()\n",
        "  C_c = mult_cpu_np(A,B)\n",
        "\n",
        "  c_time += time.time() - start\n",
        "\n",
        "print('size', size)\n",
        "print('CPU:',c_time/n)\n",
        "print('GPU:',g_time/n)"
      ],
      "execution_count": 8,
      "outputs": [
        {
          "output_type": "stream",
          "text": [
            "size 100\n",
            "CPU: 0.002389828364054362\n",
            "GPU: 0.003298044204711914\n"
          ],
          "name": "stdout"
        }
      ]
    }
  ]
}