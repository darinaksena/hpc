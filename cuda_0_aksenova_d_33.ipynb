{
  "nbformat": 4,
  "nbformat_minor": 0,
  "metadata": {
    "colab": {
      "name": "cuda_0_aksenova_d_33.ipynb",
      "provenance": [],
      "collapsed_sections": [],
      "authorship_tag": "ABX9TyMBdKxpja+F6/5TyzlhLwDq",
      "include_colab_link": true
    },
    "kernelspec": {
      "name": "python3",
      "display_name": "Python 3"
    },
    "accelerator": "GPU"
  },
  "cells": [
    {
      "cell_type": "markdown",
      "metadata": {
        "id": "view-in-github",
        "colab_type": "text"
      },
      "source": [
        "<a href=\"https://colab.research.google.com/github/darinaksena/hpc/blob/main/cuda_0_aksenova_d_33.ipynb\" target=\"_parent\"><img src=\"https://colab.research.google.com/assets/colab-badge.svg\" alt=\"Open In Colab\"/></a>"
      ]
    },
    {
      "cell_type": "markdown",
      "metadata": {
        "id": "9l_dHAfZQ4hx"
      },
      "source": [
        "**Задача:** реализовать алгоритм перемножения матриц\n",
        "\n",
        "**Язык:** C++ или Python\n",
        "\n",
        "**Входные данные:** 2 матрицы размером от 100х100 до 2000х2000.\n",
        "\n",
        "**Выходные данные:** проверка корректности перемножения + время вычисления\n",
        "\n",
        "Реализация должна содержать 2 функции перемножения матриц: на CPU и на GPU с применением CUDA.\n",
        "\n",
        "Отчет о проделанной лабораторной работе - это git-репозиторий с исходным кодом реализации + описание проделанной работы там же в readme.\n",
        "Необходимо описать реализацию, объяснив, что конкретно было распараллелено и почему. \n",
        "Провести эксперименты: перемножить матрицы разных размеров, посчитать ускорение. Результаты привести в виде таблицы."
      ]
    },
    {
      "cell_type": "code",
      "metadata": {
        "id": "5YT_dneoQ10V"
      },
      "source": [
        "!nvidia-smi"
      ],
      "execution_count": null,
      "outputs": []
    },
    {
      "cell_type": "code",
      "metadata": {
        "id": "biiNnHrF4DvP"
      },
      "source": [
        "from __future__ import division\n",
        "from numba import cuda, float32\n",
        "import time\n",
        "import numpy as np\n",
        "import math\n",
        "\n",
        "#threads per block\n",
        "TPB = 32\n",
        "size = 100\n",
        "\n",
        "\n",
        "\n",
        "@cuda.jit\n",
        "def mult_gpu(A, B, C):\n",
        "    sA = cuda.shared.array(shape=(TPB, TPB), dtype=float32)\n",
        "    sB = cuda.shared.array(shape=(TPB, TPB), dtype=float32)\n",
        "\n",
        "    x, y = cuda.grid(2)\n",
        "    \n",
        "    tx = cuda.threadIdx.x\n",
        "    ty = cuda.threadIdx.y\n",
        "    \n",
        "    if x >= C.shape[0] and y >= C.shape[1]:\n",
        "        return\n",
        "\n",
        "    tmp = 0.\n",
        "    for i in range(int(A.shape[1] / TPB)):\n",
        "        sA[tx, ty] = A[x, ty + i * TPB]\n",
        "        sB[tx, ty] = B[tx + i * TPB, y]\n",
        "\n",
        "        cuda.syncthreads()\n",
        "\n",
        "        for j in range(TPB):\n",
        "            tmp += sA[tx, j] * sB[j, ty]\n",
        "\n",
        "        cuda.syncthreads()\n",
        "\n",
        "    C[x, y] = tmp\n",
        "\n",
        "def mult_cpu(A,B):\n",
        "  return A.dot(B)\n",
        "\n",
        "def multiplicationCPU(A, B, size):\n",
        "    C = np.zeros((size,size))\n",
        "    for i in range(size):\n",
        "        for j in range(size):\n",
        "            for k in range(size):\n",
        "                C[i, j] += A[i, k] * B[k, j]\n",
        "    return C\n",
        "  \n",
        "# A = np.full((size, size), 3, np.float)\n",
        "# B = np.full((size, size), 4, np.float)\n",
        "# A =np.array([[1.,2],\n",
        "#              [2,1]])\n",
        "# B = A\n",
        "def experiment2(n, size):\n",
        "  g_time = 0.\n",
        "  c_time = 0.\n",
        "  # n = 3\n",
        "\n",
        "  for _ in range(n):\n",
        "    A = np.random.randint(5, size=(size, size))\n",
        "    A = A.astype(np.float64)\n",
        "    B = np.random.randint(10, size=(size, size))\n",
        "    B = B.astype(np.float64)\n",
        "\n",
        "    # start = time.time()\n",
        "\n",
        "    A_global_mem = cuda.to_device(A)\n",
        "    B_global_mem = cuda.to_device(B)\n",
        "    C_global_mem = cuda.device_array((size, size))\n",
        "\n",
        "    threadsperblock = (TPB, TPB)\n",
        "    blockspergrid_x = int(math.ceil(A.shape[0] / threadsperblock[1]))\n",
        "    blockspergrid_y = int(math.ceil(B.shape[1] / threadsperblock[0]))\n",
        "    blockspergrid = (blockspergrid_x, blockspergrid_y)\n",
        "\n",
        "    start = time.time()\n",
        "\n",
        "    mult_gpu[blockspergrid, threadsperblock](A_global_mem, B_global_mem, C_global_mem)\n",
        "\n",
        "    g_time += time.time() - start\n",
        "\n",
        "    C_g = C_global_mem.copy_to_host()\n",
        "\n",
        "    # g_time += time.time() - start\n",
        "\n",
        "    start = time.time()\n",
        "    # C_c = multiplicationCPU(A,B,size)\n",
        "    C_c = mult_cpu(A,B)\n",
        "    c_time += time.time() - start\n",
        "\n",
        "  print('size', size)\n",
        "  print('CPU:',c_time/n)\n",
        "  print('GPU:',g_time/n)\n",
        "  print('speedup',c_time/g_time )\n",
        "  return c_time/g_time"
      ],
      "execution_count": 19,
      "outputs": []
    },
    {
      "cell_type": "code",
      "metadata": {
        "id": "3nSJBJbwhHPF"
      },
      "source": [
        "from numba import cuda, float32\n",
        "import time\n",
        "import numpy as np\n",
        "import math\n",
        "\n",
        "@cuda.jit\n",
        "def matmul(A, B, C):\n",
        "    \"\"\"Perform matrix multiplication of C = A * B\n",
        "    \"\"\"\n",
        "    row, col = cuda.grid(2)\n",
        "    if row < C.shape[0] and col < C.shape[1]:\n",
        "        tmp = 0.\n",
        "        for k in range(A.shape[1]):\n",
        "            tmp += A[row, k] * B[k, col]\n",
        "        C[row, col] = tmp\n",
        "\n",
        "\n",
        "def experiment(n, size):\n",
        "  g_time = 0.\n",
        "  c_time = 0.\n",
        "  # n = 3\n",
        "\n",
        "  for _ in range(n):\n",
        "    A = np.random.randint(5, size=(size, size))\n",
        "    A = A.astype(np.float64)\n",
        "    B = np.random.randint(10, size=(size, size))\n",
        "    B = B.astype(np.float64)\n",
        "    C = np.zeros((size, size))\n",
        "\n",
        "    # start = time.time()\n",
        "\n",
        "    A_global_mem = cuda.to_device(A)\n",
        "    B_global_mem = cuda.to_device(B)\n",
        "    C_global_mem = cuda.device_array((size, size))\n",
        "    \n",
        "    \n",
        "    threadsperblock = (TPB, TPB)\n",
        "    blockspergrid_x = int(math.ceil(A.shape[0] / threadsperblock[1]))\n",
        "    blockspergrid_y = int(math.ceil(B.shape[1] / threadsperblock[0]))\n",
        "    blockspergrid = (blockspergrid_x, blockspergrid_y)\n",
        "\n",
        "    start = time.time()\n",
        "\n",
        "    matmul[blockspergrid, threadsperblock](A_global_mem, B_global_mem, C_global_mem)\n",
        "\n",
        "    g_time += time.time() - start\n",
        "\n",
        "    C_g = C_global_mem.copy_to_host()\n",
        "\n",
        "    \n",
        "\n",
        "    start = time.time()\n",
        "    # C_c = multiplicationCPU(A,B,size)\n",
        "    C_c = mult_cpu(A,B)\n",
        "\n",
        "    c_time += time.time() - start\n",
        "\n",
        "  print('size', size)\n",
        "  print('CPU:',c_time/n)\n",
        "  print('GPU:',g_time/n)\n",
        "  print('speedup',c_time/g_time )\n",
        "  return c_time/g_time"
      ],
      "execution_count": 20,
      "outputs": []
    },
    {
      "cell_type": "code",
      "metadata": {
        "id": "SfUxgTpOiMpQ",
        "outputId": "477f15d0-b29d-4f0e-fae5-aefdff9a223d",
        "colab": {
          "base_uri": "https://localhost:8080/",
          "height": 364
        }
      },
      "source": [
        "res = np.zeros((5,2), dtype = np.float64)\n",
        "\n",
        "res[0][0], res[0][1] = 128, experiment2(5,128)\n",
        "res[1][0], res[1][1] = 256, experiment2(5,256)\n",
        "res[2][0], res[2][1] = 512, experiment2(5,512)\n",
        "res[3][0], res[3][1] = 1024, experiment2(5,1024)\n",
        "res[4][0], res[4][1] = 2048, experiment2(5,2048)"
      ],
      "execution_count": 21,
      "outputs": [
        {
          "output_type": "stream",
          "text": [
            "size 128\n",
            "CPU: 0.00021266937255859375\n",
            "GPU: 0.04872474670410156\n",
            "speedup 0.004364709658730594\n",
            "size 256\n",
            "CPU: 0.0011779308319091798\n",
            "GPU: 0.0004307746887207031\n",
            "speedup 2.734447642240425\n",
            "size 512\n",
            "CPU: 0.008749437332153321\n",
            "GPU: 0.0005839347839355468\n",
            "speedup 14.98358647721705\n",
            "size 1024\n",
            "CPU: 0.058165359497070315\n",
            "GPU: 0.0005691051483154297\n",
            "speedup 102.20494344365312\n",
            "size 2048\n",
            "CPU: 0.44664726257324217\n",
            "GPU: 0.0004214763641357422\n",
            "speedup 1059.7207828939925\n"
          ],
          "name": "stdout"
        }
      ]
    },
    {
      "cell_type": "code",
      "metadata": {
        "id": "gRnOXEwtiWhe",
        "outputId": "90614352-ba24-4023-ec83-5ddbf81823e8",
        "colab": {
          "base_uri": "https://localhost:8080/",
          "height": 295
        }
      },
      "source": [
        "import matplotlib.pyplot as plt\n",
        "%matplotlib inline\n",
        "# print(res)\n",
        "plt.plot(res[:,0], res[:,1]) \n",
        "plt.xlabel('Matrix size')\n",
        "plt.ylabel('Speedup')\n",
        "plt.title('Shared memory')\n",
        "plt.show()"
      ],
      "execution_count": 22,
      "outputs": [
        {
          "output_type": "display_data",
          "data": {
            "image/png": "[encoded data removed]",
            "text/plain": [
              "<Figure size 432x288 with 1 Axes>"
            ]
          },
          "metadata": {
            "tags": [],
            "needs_background": "light"
          }
        }
      ]
    },
    {
      "cell_type": "code",
      "metadata": {
        "id": "jEKNr15rSjjv",
        "outputId": "63f4d08d-516c-462d-f474-d1dc6c5f378e",
        "colab": {
          "base_uri": "https://localhost:8080/",
          "height": 364
        }
      },
      "source": [
        "res = np.zeros((5,2), dtype = np.float64)\n",
        "\n",
        "res[0][0], res[0][1] = 128, experiment(5,128)\n",
        "res[1][0], res[1][1] = 256, experiment(5,256)\n",
        "res[2][0], res[2][1] = 512, experiment(5,512)\n",
        "res[3][0], res[3][1] = 1024, experiment(5,1024)\n",
        "res[4][0], res[4][1] = 2048, experiment(5,2048)"
      ],
      "execution_count": 23,
      "outputs": [
        {
          "output_type": "stream",
          "text": [
            "size 128\n",
            "CPU: 0.00020213127136230468\n",
            "GPU: 0.04845128059387207\n",
            "speedup 0.00417184579818659\n",
            "size 256\n",
            "CPU: 0.0011984825134277344\n",
            "GPU: 0.00040311813354492186\n",
            "speedup 2.973030518097942\n",
            "size 512\n",
            "CPU: 0.009438800811767577\n",
            "GPU: 0.0005093574523925781\n",
            "speedup 18.530799475753604\n",
            "size 1024\n",
            "CPU: 0.0582852840423584\n",
            "GPU: 0.0005350112915039062\n",
            "speedup 108.9421568627451\n",
            "size 2048\n",
            "CPU: 0.4525922298431396\n",
            "GPU: 0.0004405975341796875\n",
            "speedup 1027.2237012987014\n"
          ],
          "name": "stdout"
        }
      ]
    },
    {
      "cell_type": "code",
      "metadata": {
        "id": "uAjcvTh0USiC",
        "outputId": "f82e5604-d2ae-497e-d71e-ad1328ccd5a0",
        "colab": {
          "base_uri": "https://localhost:8080/",
          "height": 295
        }
      },
      "source": [
        "import matplotlib.pyplot as plt\n",
        "%matplotlib inline\n",
        "# print(res)\n",
        "plt.plot(res[:,0], res[:,1]) \n",
        "plt.xlabel('Matrix size')\n",
        "plt.ylabel('Speedup')\n",
        "plt.title('Parallel')\n",
        "plt.show()"
      ],
      "execution_count": 24,
      "outputs": [
        {
          "output_type": "display_data",
          "data": {
            "image/png": "[encoded data removed]",
            "text/plain": [
              "<Figure size 432x288 with 1 Axes>"
            ]
          },
          "metadata": {
            "tags": [],
            "needs_background": "light"
          }
        }
      ]
    },
    {
      "cell_type": "code",
      "metadata": {
        "id": "2iodT4bgSMCz",
        "outputId": "cd4e7694-1623-4f88-e79d-577052801ce8",
        "colab": {
          "base_uri": "https://localhost:8080/",
          "height": 69
        }
      },
      "source": [
        "g_time = 0.\n",
        "c_time = 0.\n",
        "n = 3\n",
        "\n",
        "for _ in range(n):\n",
        "  A = np.random.randint(5, size=(size, size))\n",
        "  A = A.astype(np.float64)\n",
        "  B = np.random.randint(10, size=(size, size))\n",
        "  B = B.astype(np.float64)\n",
        "\n",
        "  start = time.time()\n",
        "\n",
        "  A_global_mem = cuda.to_device(A)\n",
        "  B_global_mem = cuda.to_device(B)\n",
        "  C_global_mem = cuda.device_array((size, size))\n",
        "\n",
        "  threadsperblock = (TPB, TPB)\n",
        "  blockspergrid_x = int(math.ceil(A.shape[0] / threadsperblock[1]))\n",
        "  blockspergrid_y = int(math.ceil(B.shape[1] / threadsperblock[0]))\n",
        "  blockspergrid = (blockspergrid_x, blockspergrid_y)\n",
        "\n",
        "  mult_gpu[blockspergrid, threadsperblock](A_global_mem, B_global_mem, C_global_mem)\n",
        "  C_g = C_global_mem.copy_to_host()\n",
        "\n",
        "  g_time += time.time() - start\n",
        "\n",
        "  start = time.time()\n",
        "  C_c = mult_cpu(A,B)\n",
        "\n",
        "  c_time += time.time() - start\n",
        "\n",
        "print('size', size)\n",
        "print('CPU:',c_time/n)\n",
        "print('GPU:',g_time/n)"
      ],
      "execution_count": 25,
      "outputs": [
        {
          "output_type": "stream",
          "text": [
            "size 100\n",
            "CPU: 0.000352780024210612\n",
            "GPU: 0.006846825281778972\n"
          ],
          "name": "stdout"
        }
      ]
    }
  ]
}